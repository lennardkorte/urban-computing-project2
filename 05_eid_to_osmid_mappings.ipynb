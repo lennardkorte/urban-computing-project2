{
 "cells": [
  {
   "cell_type": "code",
   "execution_count": 8,
   "id": "59c4f4a0-1f3d-4f90-ae6a-847f8ecb9466",
   "metadata": {},
   "outputs": [
    {
     "data": {
      "text/plain": [
       "'3.11.10 (main, Nov 10 2024, 07:11:31) [Clang 13.0.0 (clang-1300.0.29.30)]'"
      ]
     },
     "metadata": {},
     "output_type": "display_data"
    },
    {
     "data": {
      "text/plain": [
       "'1.0.1'"
      ]
     },
     "metadata": {},
     "output_type": "display_data"
    }
   ],
   "source": [
    "import sys\n",
    "import geopandas as gpd\n",
    "display(sys.version)\n",
    "display(gpd.__version__)"
   ]
  },
  {
   "cell_type": "code",
   "execution_count": 6,
   "id": "d3b9b8f1-a5e6-41b1-b8d4-e1026ff3452c",
   "metadata": {},
   "outputs": [],
   "source": [
    "df = gpd.read_file('porto/edges.shp')"
   ]
  },
  {
   "cell_type": "code",
   "execution_count": 33,
   "id": "89775886-e8b2-42e3-8636-fd2db61a23aa",
   "metadata": {},
   "outputs": [
    {
     "data": {
      "text/html": [
       "<div>\n",
       "<style scoped>\n",
       "    .dataframe tbody tr th:only-of-type {\n",
       "        vertical-align: middle;\n",
       "    }\n",
       "\n",
       "    .dataframe tbody tr th {\n",
       "        vertical-align: top;\n",
       "    }\n",
       "\n",
       "    .dataframe thead th {\n",
       "        text-align: right;\n",
       "    }\n",
       "</style>\n",
       "<table border=\"1\" class=\"dataframe\">\n",
       "  <thead>\n",
       "    <tr style=\"text-align: right;\">\n",
       "      <th></th>\n",
       "      <th>osmid</th>\n",
       "    </tr>\n",
       "  </thead>\n",
       "  <tbody>\n",
       "    <tr>\n",
       "      <th>0</th>\n",
       "      <td>479127843</td>\n",
       "    </tr>\n",
       "    <tr>\n",
       "      <th>1</th>\n",
       "      <td>[4256507, 1175924414]</td>\n",
       "    </tr>\n",
       "    <tr>\n",
       "      <th>2</th>\n",
       "      <td>4256513</td>\n",
       "    </tr>\n",
       "    <tr>\n",
       "      <th>3</th>\n",
       "      <td>158906049</td>\n",
       "    </tr>\n",
       "    <tr>\n",
       "      <th>4</th>\n",
       "      <td>[4256491, 108390772, 479127839]</td>\n",
       "    </tr>\n",
       "  </tbody>\n",
       "</table>\n",
       "</div>"
      ],
      "text/plain": [
       "                             osmid\n",
       "0                        479127843\n",
       "1            [4256507, 1175924414]\n",
       "2                          4256513\n",
       "3                        158906049\n",
       "4  [4256491, 108390772, 479127839]"
      ]
     },
     "execution_count": 33,
     "metadata": {},
     "output_type": "execute_result"
    }
   ],
   "source": [
    "edge_eid_to_osmid = df[['osmid0']].rename(columns={'osmid0': 'osmid'})\n",
    "edge_eid_to_osmid.to_csv('data/edges_osmid_to_edges.csv', index=False)\n",
    "edge_eid_to_osmid.head(5)"
   ]
  }
 ],
 "metadata": {
  "kernelspec": {
   "display_name": "Python 3",
   "language": "python",
   "name": "python3"
  },
  "language_info": {
   "codemirror_mode": {
    "name": "ipython",
    "version": 3
   },
   "file_extension": ".py",
   "mimetype": "text/x-python",
   "name": "python",
   "nbconvert_exporter": "python",
   "pygments_lexer": "ipython3",
   "version": "3.11.10"
  }
 },
 "nbformat": 4,
 "nbformat_minor": 5
}
